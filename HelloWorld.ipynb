{
 "cells": [
  {
   "cell_type": "markdown",
   "metadata": {
    "collapsed": true,
    "jupyter": {
     "outputs_hidden": true
    }
   },
   "source": [
    "# My First Notebook"
   ]
  },
  {
   "metadata": {},
   "cell_type": "markdown",
   "source": [
    "# Assignment 1: Hello Class\n",
    "\n",
    "Welcome to my Assignment 1 Notebook!\n",
    "\n",
    "This notebook contains **two** different MadLib programs in English. Each program will:\n",
    "- Ask the user for **5** words/phrases\n",
    "- Print out a short, fun story based on those inputs\n",
    "\n",
    "I will commit the first version to GitHub, and then make some modifications or add the second version for a second commit.\n"
   ]
  },
  {
   "metadata": {},
   "cell_type": "markdown",
   "source": ""
  },
  {
   "metadata": {
    "ExecuteTime": {
     "end_time": "2025-04-02T02:43:40.782390Z",
     "start_time": "2025-04-02T02:18:01.584188Z"
    }
   },
   "cell_type": "code",
   "source": [
    "print(\"=== MadLib #1: The Enchanted Forest ===\\n\")\n",
    "\n",
    "# Ask for 5 inputs\n",
    "noun1 = input(\"1) Please give me a noun (e.g. 'dragon'): \")\n",
    "place = input(\"2) Name a magical place (e.g. 'Wonderland'): \")\n",
    "adjective = input(\"3) Give me an adjective (e.g. 'sparkling'): \")\n",
    "noun2 = input(\"4) Another noun (e.g. 'treasure'): \")\n",
    "verb = input(\"5) A verb ending in -ing (e.g. 'dancing'): \")\n",
    "\n",
    "print(\"\\n---- Generating Your Enchanted Forest Story ----\\n\")\n",
    "\n",
    "story_1 = f\"\"\"\n",
    "Once upon a time, there was a {noun1} who lived in the heart of {place}.\n",
    "Every morning, it woke up to see the {adjective} sunlight shining on its favorite {noun2}.\n",
    "One day, it started {verb} around the forest to celebrate the arrival of spring.\n",
    "And that was the beginning of an unforgettable adventure!\n",
    "\"\"\"\n",
    "\n",
    "print(story_1)\n",
    "print(\"The End (of MadLib #1)\")\n"
   ],
   "outputs": [
    {
     "name": "stdout",
     "output_type": "stream",
     "text": [
      "=== MadLib #1: The Enchanted Forest ===\n",
      "\n",
      "\n",
      "---- Generating Your Enchanted Forest Story ----\n",
      "\n",
      "\n",
      "Once upon a time, there was a dragon who lived in the heart of wonderland.\n",
      "Every morning, it woke up to see the sparkling sunlight shining on its favorite treasure.\n",
      "One day, it started dancing around the forest to celebrate the arrival of spring.\n",
      "And that was the beginning of an unforgettable adventure!\n",
      "\n",
      "The End (of MadLib #1)\n"
     ]
    }
   ],
   "execution_count": 1
  }
 ],
 "metadata": {
  "kernelspec": {
   "display_name": "Python 3 (ipykernel)",
   "language": "python",
   "name": "python3"
  },
  "language_info": {
   "codemirror_mode": {
    "name": "ipython",
    "version": 3
   },
   "file_extension": ".py",
   "mimetype": "text/x-python",
   "name": "python",
   "nbconvert_exporter": "python",
   "pygments_lexer": "ipython3",
   "version": "3.9.7"
  }
 },
 "nbformat": 4,
 "nbformat_minor": 4
}
