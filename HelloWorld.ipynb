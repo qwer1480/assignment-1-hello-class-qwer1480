{
 "cells": [
  {
   "cell_type": "markdown",
   "metadata": {
    "collapsed": true,
    "jupyter": {
     "outputs_hidden": true
    }
   },
   "source": [
    "# My First Notebook"
   ]
  },
  {
   "metadata": {},
   "cell_type": "markdown",
   "source": [
    "# Assignment 1: Hello Class\n",
    "\n",
    "Welcome to my Assignment 1 Notebook!\n",
    "\n",
    "This notebook contains **two** different MadLib programs in English. Each program will:\n",
    "- Ask the user for **5** words/phrases\n",
    "- Print out a short, fun story based on those inputs\n",
    "\n",
    "I will commit the first version to GitHub, and then make some modifications or add the second version for a second commit.\n"
   ]
  },
  {
   "metadata": {},
   "cell_type": "markdown",
   "source": ""
  },
  {
   "metadata": {
    "ExecuteTime": {
     "end_time": "2025-04-02T02:43:40.782390Z",
     "start_time": "2025-04-02T02:18:01.584188Z"
    }
   },
   "cell_type": "code",
   "source": [
    "print(\"=== MadLib #1: The Enchanted Forest ===\\n\")\n",
    "\n",
    "# Ask for 5 inputs\n",
    "noun1 = input(\"1) Please give me a noun (e.g. 'dragon'): \")\n",
    "place = input(\"2) Name a magical place (e.g. 'Wonderland'): \")\n",
    "adjective = input(\"3) Give me an adjective (e.g. 'sparkling'): \")\n",
    "noun2 = input(\"4) Another noun (e.g. 'treasure'): \")\n",
    "verb = input(\"5) A verb ending in -ing (e.g. 'dancing'): \")\n",
    "\n",
    "print(\"\\n---- Generating Your Enchanted Forest Story ----\\n\")\n",
    "\n",
    "story_1 = f\"\"\"\n",
    "Once upon a time, there was a {noun1} who lived in the heart of {place}.\n",
    "Every morning, it woke up to see the {adjective} sunlight shining on its favorite {noun2}.\n",
    "One day, it started {verb} around the forest to celebrate the arrival of spring.\n",
    "And that was the beginning of an unforgettable adventure!\n",
    "\"\"\"\n",
    "\n",
    "print(story_1)\n",
    "print(\"The End (of MadLib #1)\")\n"
   ],
   "outputs": [
    {
     "name": "stdout",
     "output_type": "stream",
     "text": [
      "=== MadLib #1: The Enchanted Forest ===\n",
      "\n",
      "\n",
      "---- Generating Your Enchanted Forest Story ----\n",
      "\n",
      "\n",
      "Once upon a time, there was a dragon who lived in the heart of wonderland.\n",
      "Every morning, it woke up to see the sparkling sunlight shining on its favorite treasure.\n",
      "One day, it started dancing around the forest to celebrate the arrival of spring.\n",
      "And that was the beginning of an unforgettable adventure!\n",
      "\n",
      "The End (of MadLib #1)\n"
     ]
    }
   ],
   "execution_count": 1
  },
  {
   "metadata": {
    "ExecuteTime": {
     "end_time": "2025-04-02T03:13:15.258074Z",
     "start_time": "2025-04-02T03:12:49.087520Z"
    }
   },
   "cell_type": "code",
   "source": [
    "print(\"=== MadLib #2: A Crazy Vacation ===\\n\")\n",
    "\n",
    "# Ask for 5 inputs\n",
    "friend_name = input(\"1) Name a friend's name: \")\n",
    "adjective_1 = input(\"2) Give me an adjective (e.g. 'wild'): \")\n",
    "transportation = input(\"3) A mode of transportation (e.g. 'train'): \")\n",
    "favorite_food = input(\"4) What's your favorite food?: \")\n",
    "activity = input(\"5) A fun activity (e.g. 'surfing'): \")\n",
    "\n",
    "print(\"\\n---- Generating Your Crazy Vacation Story ----\\n\")\n",
    "\n",
    "story_2 = f\"\"\"\n",
    "Last summer, {friend_name} and I took a {adjective_1} trip by {transportation} to the beach.\n",
    "We ate nothing but {favorite_food} for three whole days!\n",
    "During the evenings, we tried {activity} until we were completely exhausted.\n",
    "It was definitely the most memorable vacation of our lives!\n",
    "\"\"\"\n",
    "\n",
    "print(story_2)\n",
    "print(\"The End (of MadLib #2)\")"
   ],
   "outputs": [
    {
     "name": "stdout",
     "output_type": "stream",
     "text": [
      "=== MadLib #2: A Crazy Vacation ===\n",
      "\n",
      "\n",
      "---- Generating Your Crazy Vacation Story ----\n",
      "\n",
      "\n",
      "Last summer, xx and I took a wild trip by train to the beach.\n",
      "We ate nothing but apple for three whole days!\n",
      "During the evenings, we tried surfing until we were completely exhausted.\n",
      "It was definitely the most memorable vacation of our lives!\n",
      "\n",
      "The End (of MadLib #2)\n"
     ]
    }
   ],
   "execution_count": 3
  }
 ],
 "metadata": {
  "kernelspec": {
   "display_name": "Python 3 (ipykernel)",
   "language": "python",
   "name": "python3"
  },
  "language_info": {
   "codemirror_mode": {
    "name": "ipython",
    "version": 3
   },
   "file_extension": ".py",
   "mimetype": "text/x-python",
   "name": "python",
   "nbconvert_exporter": "python",
   "pygments_lexer": "ipython3",
   "version": "3.9.7"
  }
 },
 "nbformat": 4,
 "nbformat_minor": 4
}
